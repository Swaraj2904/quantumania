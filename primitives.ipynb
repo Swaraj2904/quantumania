{
 "cells": [
  {
   "cell_type": "markdown",
   "metadata": {},
   "source": [
    "## Primitive\n",
    "The smallest possible instruction for a given abstraction level"
   ]
  },
  {
   "cell_type": "markdown",
   "metadata": {},
   "source": [
    "### Estimator Primitive\n",
    "Computes expectation values of observables with respective states prepared by quantum circuits"
   ]
  },
  {
   "cell_type": "markdown",
   "metadata": {},
   "source": [
    "### Sampler Primitive\n",
    "Returns shot by shot bit strings sampled from the probability distribution of the quantum state prepared on the device"
   ]
  },
  {
   "cell_type": "markdown",
   "metadata": {},
   "source": [
    "Referenced Article:\n",
    "https://www.nature.com/articles/s41586-023-06096-3"
   ]
  },
  {
   "cell_type": "markdown",
   "metadata": {},
   "source": [
    "# Transverse field Ising model"
   ]
  },
  {
   "cell_type": "code",
   "execution_count": 4,
   "metadata": {},
   "outputs": [],
   "source": [
    "from qiskit import QuantumCircuit\n",
    "# import X gate\n",
    "from qiskit.circuit.library.standard_gates import XGate, CXGate, YGate, UGate, SdgGate, SXdgGate"
   ]
  },
  {
   "cell_type": "code",
   "execution_count": null,
   "metadata": {},
   "outputs": [],
   "source": [
    "def generate_1d_tfim_circuit(num_qubits, num_trotter_steps, rx_angle):\n",
    "  qc = QuantumCircuit(num_qubits)\n",
    "\n",
    "  for trotter_step in range(num_trotter_steps):\n",
    "    add_1d_tfim_trotter_step(qc, num_qubits, rx_angle)\n",
    "\n",
    "  return qc\n",
    "\n",
    "\n",
    "def add_1d_tfim_trotter_step(qc, num_qubits, rx_angle):\n",
    "  # Adding Rzz gates in the even layers\n",
    "  for i in range(0, qc.num_qubits - 1, 2):\n",
    "    qc.sdg([i, i + 1])\n",
    "    qc.append(SYGate, [i + 1])\n",
    "    qc.cx([i, i + 1])\n",
    "    qc.append(SYdgGate, [i + 1])"
   ]
  },
  {
   "cell_type": "markdown",
   "metadata": {},
   "source": []
  },
  {
   "cell_type": "code",
   "execution_count": null,
   "metadata": {},
   "outputs": [],
   "source": [
    "UGate = UGate(0, 0, 0)"
   ]
  }
 ],
 "metadata": {
  "kernelspec": {
   "display_name": "cwq",
   "language": "python",
   "name": "python3"
  },
  "language_info": {
   "codemirror_mode": {
    "name": "ipython",
    "version": 3
   },
   "file_extension": ".py",
   "mimetype": "text/x-python",
   "name": "python",
   "nbconvert_exporter": "python",
   "pygments_lexer": "ipython3",
   "version": "3.12.4"
  }
 },
 "nbformat": 4,
 "nbformat_minor": 2
}
